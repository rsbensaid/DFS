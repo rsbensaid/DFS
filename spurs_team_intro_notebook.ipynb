{
  "nbformat": 4,
  "nbformat_minor": 0,
  "metadata": {
    "colab": {
      "name": "spurs_team_intro_notebook.ipynb",
      "version": "0.3.2",
      "provenance": [],
      "include_colab_link": true
    },
    "kernelspec": {
      "name": "python3",
      "display_name": "Python 3"
    }
  },
  "cells": [
    {
      "cell_type": "markdown",
      "metadata": {
        "id": "view-in-github",
        "colab_type": "text"
      },
      "source": [
        "<a href=\"https://colab.research.google.com/github/rsbensaid/DFS/blob/master/spurs_team_intro_notebook.ipynb\" target=\"_parent\"><img src=\"https://colab.research.google.com/assets/colab-badge.svg\" alt=\"Open In Colab\"/></a>"
      ]
    },
    {
      "cell_type": "markdown",
      "metadata": {
        "id": "uCQdGhTyJy2e",
        "colab_type": "text"
      },
      "source": [
        "# Data Access & Storage Examples: Spurs"
      ]
    },
    {
      "cell_type": "markdown",
      "metadata": {
        "id": "inNwRbyeKIFf",
        "colab_type": "text"
      },
      "source": [
        "# Notebook Setup"
      ]
    },
    {
      "cell_type": "code",
      "metadata": {
        "id": "WuybifVAJH6t",
        "colab_type": "code",
        "cellView": "both",
        "outputId": "a4949ddb-7a58-4438-b39c-0ff9f38eabbe",
        "colab": {
          "base_uri": "https://localhost:8080/",
          "height": 34
        }
      },
      "source": [
        "#@title Authenticate\n",
        "from google.colab import auth\n",
        "auth.authenticate_user()\n",
        "print('Authenticated')"
      ],
      "execution_count": 0,
      "outputs": [
        {
          "output_type": "stream",
          "text": [
            "Authenticated\n"
          ],
          "name": "stdout"
        }
      ]
    },
    {
      "cell_type": "code",
      "metadata": {
        "id": "OqBvNbdHKZvZ",
        "colab_type": "code",
        "colab": {}
      },
      "source": [
        "#@title Library Imports & Client Setup\n",
        "from google.cloud import bigquery\n",
        "import logging\n",
        "from datetime import datetime\n",
        "project = 'spurs-sp2018'\n",
        "bq_client = bigquery.Client(project=project)\n",
        "gcs_client = bigquery.Client(project=project)"
      ],
      "execution_count": 0,
      "outputs": []
    },
    {
      "cell_type": "markdown",
      "metadata": {
        "id": "6ehPPd0gKvzM",
        "colab_type": "text"
      },
      "source": [
        "# BigQuery Access\n",
        "\n",
        "[BigQuery](https://console.cloud.google.com/bigquery?project=spurs-sp2018&authuser=0) is the relational database where all of your data will be stored"
      ]
    },
    {
      "cell_type": "markdown",
      "metadata": {
        "id": "IlA49OXJPCx9",
        "colab_type": "text"
      },
      "source": [
        "**Via Magic Commands**\n",
        "\n",
        "Top 5 Teams By FG% From > 40"
      ]
    },
    {
      "cell_type": "code",
      "metadata": {
        "id": "MxpnN8zVNGoM",
        "colab_type": "code",
        "outputId": "264f9c07-2cd2-4e64-ad37-bad39f59e3d5",
        "colab": {
          "base_uri": "https://localhost:8080/",
          "height": 51
        }
      },
      "source": [
        "%%bigquery --project spurs-sp2018 ins\\rt_df\n",
        "\n",
        "SELECT season\n",
        ", abbrev\n",
        ", ROUND(AVG(IF(outcome, 1, 0)), 3) AS fg_perc \n",
        "FROM ss.shots AS s\n",
        "LEFT JOIN ss.teams AS t\n",
        "ON s.off_team_id = t.id\n",
        "WHERE distance > 40\n",
        "GROUP BY season\n",
        ", abbrev\n",
        "ORDER BY fg_perc DESC\n",
        "LIMIT 5"
      ],
      "execution_count": 0,
      "outputs": [
        {
          "output_type": "stream",
          "text": [
            "Executing query with job ID: 5d4996c8-00de-4bf2-bf8e-135e67ac0428\n",
            "\rQuery executing: 0.37s"
          ],
          "name": "stdout"
        }
      ]
    },
    {
      "cell_type": "code",
      "metadata": {
        "id": "BXIXtVrtR7tB",
        "colab_type": "code",
        "outputId": "93ed5999-f795-4708-d4f5-0aab8d5e511d",
        "colab": {
          "base_uri": "https://localhost:8080/",
          "height": 115
        }
      },
      "source": [
        "print(insert_df)"
      ],
      "execution_count": 0,
      "outputs": [
        {
          "output_type": "stream",
          "text": [
            "  season abbrev  fg_perc\n",
            "0   2017    POR    0.300\n",
            "1   2016    LAL    0.240\n",
            "2   2013    LAL    0.214\n",
            "3   2015    CLE    0.211\n",
            "4   2017    LAC    0.200\n"
          ],
          "name": "stdout"
        }
      ]
    },
    {
      "cell_type": "markdown",
      "metadata": {
        "id": "VJeJtq17OuAG",
        "colab_type": "text"
      },
      "source": [
        "**Via Python Client**\n",
        "\n",
        "\n",
        "Check tables for duplicate values"
      ]
    },
    {
      "cell_type": "code",
      "metadata": {
        "id": "zgo8WPEjKzey",
        "colab_type": "code",
        "outputId": "8917452a-830f-424c-c7ec-6b9dfc5f5934",
        "colab": {
          "base_uri": "https://localhost:8080/",
          "height": 459
        }
      },
      "source": [
        "tables = ['chances', 'possessions', 'shots', 'rebounds', 'turnovers'\n",
        "          , 'free_throws', 'fouls', 'timeouts', 'violations', 'passes'\n",
        "          , 'touches', 'dribbles', 'picks', 'isolations', 'handoffs', 'drives'\n",
        "          , 'posts', 'off_ball_screens', 'fake_handoffs', 'closeouts'\n",
        "          , 'chance_players', 'rotations', 'poss_matchups', 'speed_loads'\n",
        "]\n",
        "\n",
        "for t in tables:\n",
        "  sql = \"\"\"\n",
        "    SELECT game_id\n",
        "    , game_date\n",
        "    , path\n",
        "    FROM (\n",
        "      SELECT game_id, id, COUNT(*) AS x FROM ss.{_t_} GROUP BY game_id, id\n",
        "    ) AS y\n",
        "    LEFT JOIN ss.games AS g\n",
        "    ON y.game_id = g.id\n",
        "    WHERE x > 1\n",
        "    GROUP BY game_id\n",
        "    , game_date\n",
        "    , path\n",
        "  \"\"\".format(_t_ = t)\n",
        "  df = bq_client.query(sql).to_dataframe()\n",
        "  if not df.empty:\n",
        "    print(t + ':' + str(len(list(df['path']))))\n",
        "    print(t + ':' + str(tuple(df['game_id'])))\n",
        "  else:\n",
        "    print(t + ': NO DUPLICATES')"
      ],
      "execution_count": 0,
      "outputs": [
        {
          "output_type": "stream",
          "text": [
            "chances: NO DUPLICATES\n",
            "possessions:1\n",
            "possessions:('2d5c731b-6aa1-4589-b3ba-8395f47b30ef',)\n",
            "shots: NO DUPLICATES\n",
            "rebounds: NO DUPLICATES\n",
            "turnovers: NO DUPLICATES\n",
            "free_throws: NO DUPLICATES\n",
            "fouls: NO DUPLICATES\n",
            "timeouts: NO DUPLICATES\n",
            "violations: NO DUPLICATES\n",
            "passes: NO DUPLICATES\n",
            "touches: NO DUPLICATES\n",
            "dribbles: NO DUPLICATES\n",
            "picks: NO DUPLICATES\n",
            "isolations: NO DUPLICATES\n",
            "handoffs: NO DUPLICATES\n",
            "drives: NO DUPLICATES\n",
            "posts: NO DUPLICATES\n",
            "off_ball_screens: NO DUPLICATES\n",
            "fake_handoffs: NO DUPLICATES\n",
            "closeouts: NO DUPLICATES\n",
            "chance_players: NO DUPLICATES\n",
            "rotations: NO DUPLICATES\n",
            "poss_matchups:1\n",
            "poss_matchups:('2d5c731b-6aa1-4589-b3ba-8395f47b30ef',)\n",
            "speed_loads: NO DUPLICATES\n"
          ],
          "name": "stdout"
        }
      ]
    },
    {
      "cell_type": "markdown",
      "metadata": {
        "id": "9ZEMe5i6sEEv",
        "colab_type": "text"
      },
      "source": [
        "# Accessing Raw Files\n",
        "\n",
        "Raw files will be stored in [Google Cloud Storage](https://console.cloud.google.com/storage/browser?project=spurs-sp2018&authuser=0)"
      ]
    }
  ]
}